{
 "cells": [
  {
   "cell_type": "code",
   "execution_count": null,
   "id": "866cca40",
   "metadata": {},
   "outputs": [],
   "source": [
    "# Experiments with UMAP  19-Oct-2022 J.Beale\n",
    "# based on https://umap-learn.readthedocs.io/en/latest/basic_usage.html\n",
    "\n",
    "import numpy as np\n",
    "from sklearn.datasets import load_digits\n",
    "from sklearn.model_selection import train_test_split\n",
    "from sklearn.preprocessing import StandardScaler\n",
    "import matplotlib.pyplot as plt\n",
    "import seaborn as sns\n",
    "import pandas as pd\n",
    "%matplotlib inline"
   ]
  },
  {
   "cell_type": "code",
   "execution_count": null,
   "id": "42919f77",
   "metadata": {},
   "outputs": [],
   "source": [
    "sns.set(style='white', context='notebook', rc={'figure.figsize':(14,10)})"
   ]
  },
  {
   "cell_type": "code",
   "execution_count": null,
   "id": "0f271445",
   "metadata": {},
   "outputs": [],
   "source": [
    "cars  = pd.read_csv(\"data/cars-7390.csv\")  # Get training data from CSV file\n",
    "# cars.head()"
   ]
  },
  {
   "cell_type": "code",
   "execution_count": null,
   "id": "9006a6b3",
   "metadata": {},
   "outputs": [],
   "source": [
    "# cars = cars.dropna()      # get rid of any N/A values\n",
    "# cars.hour.value_counts()  # display how many events at each hour of day"
   ]
  },
  {
   "cell_type": "code",
   "execution_count": null,
   "id": "e7898e55",
   "metadata": {
    "scrolled": true
   },
   "outputs": [],
   "source": [
    "# sns.pairplot(cars, vars=[\"v2\", \"std\", \"minY\", \"pixels\"], hue='v2');  # slow"
   ]
  },
  {
   "cell_type": "code",
   "execution_count": null,
   "id": "166528f6",
   "metadata": {},
   "outputs": [],
   "source": [
    "import umap                 # this cell takes a while\n",
    "import umap.plot"
   ]
  },
  {
   "cell_type": "code",
   "execution_count": null,
   "id": "577ab7ea",
   "metadata": {},
   "outputs": [],
   "source": [
    "cars_data = cars[\n",
    "    [\n",
    "        #\"day\",\n",
    "        #\"hour\",\n",
    "        #\"minute\",\n",
    "        \"frames\",\n",
    "        \"v1\",\n",
    "        \"v2\",\n",
    "        \"v3\",\n",
    "        \"std\",\n",
    "        \"minY\",\n",
    "        \"pixels\",\n",
    "    ]\n",
    "].values\n",
    "\n",
    "# fit_transform(X) calculates the best fit, then transforms the data\n",
    "# fit(X) just calculates the parameters (per-column) returning the scaler object for later use\n",
    "\n",
    "Fit = StandardScaler().fit(cars_data)  # get parameters needed to standardize this data\n",
    "scaled_cars_data = Fit.transform(cars_data)\n"
   ]
  },
  {
   "cell_type": "code",
   "execution_count": null,
   "id": "102186bd",
   "metadata": {},
   "outputs": [],
   "source": [
    "mapper = umap.UMAP(n_neighbors=15,\n",
    "                   min_dist=0.01,\n",
    "                   init='spectral',\n",
    "                   random_state=40).fit(scaled_cars_data) # this is a little slow"
   ]
  },
  {
   "cell_type": "code",
   "execution_count": null,
   "id": "d39f0af0",
   "metadata": {},
   "outputs": [],
   "source": [
    "def ishow(dmap, labels, n):\n",
    "    hover_data = pd.DataFrame({'index': np.arange(n)+2,\n",
    "                               'label': labels,\n",
    "                               'x': dmap.embedding_[:n, 0],\n",
    "                               'y': dmap.embedding_[:n, 1]\n",
    "                               })\n",
    "    p = umap.plot.interactive(dmap, labels=labels,\n",
    "                              hover_data=hover_data, point_size=3, theme = 'fire')\n",
    "    umap.plot.show(p)\n",
    "    \n",
    "carA = cars.to_numpy()  # convert pandas dataframe to numpy array\n",
    "img_count = carA.shape[0]   # how many total cars in data set\n",
    "\n",
    "#labels = carA[:,1]          # hour (hour of day, 24 hour clock)\n",
    "#labels = carA[:,6]          # v2 (average velocity)\n",
    "#labels = carA[:,8]          # std (standard deviation of velocity)\n",
    "#labels = carA[:,9]          # maxY (lowest vertical position in frame)\n",
    "labels = carA[:,10]          # pixels (size of detected motion area)\n",
    "\n",
    "ishow(mapper, labels, img_count)  # show an interactive plot of the training data"
   ]
  },
  {
   "cell_type": "code",
   "execution_count": null,
   "id": "a9a16437",
   "metadata": {
    "scrolled": true
   },
   "outputs": [],
   "source": [
    "orig_embedding = mapper.transform(scaled_cars_data)   # original training data in map\n",
    "plt.rcParams['axes.facecolor'] = 'black'  # set matplotlib background color\n",
    "plt.scatter(orig_embedding[:, 0], orig_embedding[:, 1], c=carA[:,6], s=2, cmap='Spectral') # plot training data"
   ]
  },
  {
   "cell_type": "code",
   "execution_count": null,
   "id": "7a9832dc",
   "metadata": {},
   "outputs": [],
   "source": [
    "\n",
    "# === Now, let's load new test data, and see how it fits into the map\n"
   ]
  },
  {
   "cell_type": "code",
   "execution_count": null,
   "id": "55a5efa0",
   "metadata": {},
   "outputs": [],
   "source": [
    "#cars2 = pd.read_csv(\"data/mailman.csv\")  # Get test data from CSV file\n",
    "cars2 = pd.read_csv(\"data/cars-2310.csv\")  # Get test data from CSV file"
   ]
  },
  {
   "cell_type": "code",
   "execution_count": null,
   "id": "84687be4",
   "metadata": {},
   "outputs": [],
   "source": [
    "cars2_data = cars2[\n",
    "    [\n",
    "        #\"day\",\n",
    "        #\"hour\",\n",
    "        #\"minute\",\n",
    "        \"frames\",\n",
    "        \"v1\",\n",
    "        \"v2\",\n",
    "        \"v3\",\n",
    "        \"std\",\n",
    "        \"minY\",\n",
    "        \"pixels\",\n",
    "    ]\n",
    "].values\n",
    "\n",
    "scaled_cars2_data = Fit.transform(cars2_data)  # transform test data with existing trained Fit parameters"
   ]
  },
  {
   "cell_type": "code",
   "execution_count": null,
   "id": "c4c8a849",
   "metadata": {
    "scrolled": true
   },
   "outputs": [],
   "source": [
    "test_embedding = mapper.transform(scaled_cars2_data)  # put test data into trained map"
   ]
  },
  {
   "cell_type": "code",
   "execution_count": null,
   "id": "daf76eff",
   "metadata": {
    "scrolled": true
   },
   "outputs": [],
   "source": [
    "# Display the new data based on the trained UMAP embedding\n",
    "\n",
    "# index: 1 2 3 4 5  6  7  8   9    10\n",
    "# value: D H M S v1 v2 v3 std minY size\n",
    "\n",
    "car2A = cars2.to_numpy()  # convert pandas dataframe to numpy array\n",
    "plt.rcParams['axes.facecolor'] = 'black'  # set matplotlib background color\n",
    "\n",
    "#plt.scatter(test_embedding[:, 0], test_embedding[:, 1], c=car2A[:,10], cmap='Spectral')\n",
    "#plt.scatter(test_embedding[:, 0], test_embedding[:, 1], c=car2A[:,9], cmap='Spectral')\n",
    "#plt.scatter(test_embedding[:, 0], test_embedding[:, 1], c=car2A[:,8], cmap='Spectral')\n",
    "plt.scatter(test_embedding[:, 0], test_embedding[:, 1], c=car2A[:,6], s=2, cmap='Spectral')"
   ]
  },
  {
   "cell_type": "code",
   "execution_count": 40,
   "id": "647bc108",
   "metadata": {},
   "outputs": [
    {
     "name": "stdout",
     "output_type": "stream",
     "text": [
      "Map coords:  [4.93998    0.72399294] CSV Line 5781\n",
      "Map coords:  [4.9192915 0.6990663] CSV Line 1124\n"
     ]
    }
   ],
   "source": [
    "# Find the closest example to a specific point in data mapping\n",
    "from scipy import spatial\n",
    "\n",
    "def showNearest(A,pt):\n",
    "    dist,index = spatial.KDTree(A).query(pt)  # get distance and index of nearest point\n",
    "    print(\"Map coords: \", A[index],end=\"\")  # find (x,y) of nearest point\n",
    "    print(\" CSV Line %d\" % (index+2)) # corresponding line # in CSV file\n",
    "\n",
    "pt = [4.94, 0.724]  # choose a point in the output space\n",
    "showNearest(orig_embedding, pt)  # nearest point in training data\n",
    "showNearest(test_embedding, pt)  # nearest point in test data\n"
   ]
  },
  {
   "cell_type": "code",
   "execution_count": null,
   "id": "5e61ef2e",
   "metadata": {},
   "outputs": [],
   "source": []
  }
 ],
 "metadata": {
  "kernelspec": {
   "display_name": "Python 3 (ipykernel)",
   "language": "python",
   "name": "python3"
  },
  "language_info": {
   "codemirror_mode": {
    "name": "ipython",
    "version": 3
   },
   "file_extension": ".py",
   "mimetype": "text/x-python",
   "name": "python",
   "nbconvert_exporter": "python",
   "pygments_lexer": "ipython3",
   "version": "3.8.13"
  }
 },
 "nbformat": 4,
 "nbformat_minor": 5
}
