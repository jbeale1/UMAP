{
 "cells": [
  {
   "cell_type": "code",
   "execution_count": null,
   "id": "866cca40",
   "metadata": {},
   "outputs": [],
   "source": [
    "# Experiments with UMAP  21-Oct-2022 J.Beale\n",
    "# based on https://umap-learn.readthedocs.io/en/latest/basic_usage.html\n",
    "\n",
    "import numpy as np\n",
    "from sklearn.datasets import load_digits\n",
    "from sklearn.model_selection import train_test_split\n",
    "from sklearn.preprocessing import StandardScaler\n",
    "import matplotlib.pyplot as plt\n",
    "import seaborn as sns\n",
    "import pandas as pd\n",
    "\n",
    "%matplotlib inline\n"
   ]
  },
  {
   "cell_type": "code",
   "execution_count": null,
   "id": "42919f77",
   "metadata": {},
   "outputs": [],
   "source": [
    "sns.set(style='white', context='notebook', rc={'figure.figsize':(14,10)})"
   ]
  },
  {
   "cell_type": "code",
   "execution_count": null,
   "id": "0f271445",
   "metadata": {},
   "outputs": [],
   "source": [
    "group=4\n",
    "bsize = 6000\n",
    "stdThresh = 8             # discard rows with standard dev. higher than this\n",
    "maxlines = group*bsize    # use only this many lines of data\n",
    "\n",
    "#carsR  = pd.read_csv(\"data/cars-2021.csv\", nrows=maxlines)  # Get training data from CSV file\n",
    "#cars=carsR.drop(carsR.index[:((group-1)*bsize)])       # select out this subset\n",
    "cars  = pd.read_csv(\"data/cars-7390.csv\", nrows=maxlines)  # Get training data from CSV file\n",
    "cars=cars[cars[\"std\"] < stdThresh]                     # remove rows with std.dev. too high\n",
    "cars[\"direction\"] = np.sign(cars[\"v2\"]) # create new column: direction of motion (-1, +1)\n",
    "# cars.head()"
   ]
  },
  {
   "cell_type": "code",
   "execution_count": null,
   "id": "9006a6b3",
   "metadata": {},
   "outputs": [],
   "source": [
    "# cars = cars.dropna()      # get rid of any N/A values\n",
    "# cars.hour.value_counts()  # display how many events at each hour of day"
   ]
  },
  {
   "cell_type": "code",
   "execution_count": null,
   "id": "e7898e55",
   "metadata": {
    "scrolled": true
   },
   "outputs": [],
   "source": [
    "# sns.pairplot(cars, vars=[\"v2\", \"std\", \"minY\", \"pixels\"], hue='v2');  # slow"
   ]
  },
  {
   "cell_type": "code",
   "execution_count": null,
   "id": "166528f6",
   "metadata": {},
   "outputs": [],
   "source": [
    "import umap                 # this cell takes a while\n",
    "import umap.plot"
   ]
  },
  {
   "cell_type": "code",
   "execution_count": null,
   "id": "577ab7ea",
   "metadata": {},
   "outputs": [],
   "source": [
    "\n",
    "cars_data = cars[\n",
    "    [\n",
    "        #\"day\",\n",
    "        #\"hour\",\n",
    "        #\"minute\",\n",
    "        \"frames\",\n",
    "        \"v1\",\n",
    "        \"v2\",\n",
    "        \"v3\",\n",
    "        \"std\",\n",
    "        \"minY\",\n",
    "        \"pixels\",\n",
    "        \"direction\"\n",
    "    ]\n",
    "].values\n",
    "\n",
    "# fit_transform(X) calculates the best fit, then transforms the data\n",
    "# fit(X) just calculates the parameters (per-column) returning the scaler object for later use\n",
    "\n",
    "Fit = StandardScaler().fit(cars_data)  # get parameters needed to standardize this data\n",
    "scaled_cars_data = Fit.transform(cars_data)\n"
   ]
  },
  {
   "cell_type": "code",
   "execution_count": null,
   "id": "643ee6c9",
   "metadata": {},
   "outputs": [],
   "source": [
    "def ishow(dmap, labels, n):\n",
    "    hover_data = pd.DataFrame({'index': np.arange(n)+2,\n",
    "                               'label': labels[:n],\n",
    "                               'x': dmap.embedding_[:n, 0],\n",
    "                               'y': dmap.embedding_[:n, 1]\n",
    "                               })\n",
    "    p = umap.plot.interactive(dmap, labels=labels,\n",
    "                              hover_data=hover_data, point_size=8, theme = 'fire')\n",
    "    umap.plot.show(p)\n",
    "    "
   ]
  },
  {
   "cell_type": "code",
   "execution_count": null,
   "id": "102186bd",
   "metadata": {},
   "outputs": [],
   "source": [
    "mapper = umap.UMAP(n_neighbors=45, # was 45\n",
    "                   min_dist=0.01,\n",
    "                   metric='minkowski',\n",
    "                   init='spectral',\n",
    "                   random_state=42).fit(scaled_cars_data) # this is a little slow"
   ]
  },
  {
   "cell_type": "code",
   "execution_count": null,
   "id": "d39f0af0",
   "metadata": {
    "scrolled": true
   },
   "outputs": [],
   "source": [
    "carA = cars.to_numpy()  # convert pandas dataframe to numpy array\n",
    "img_count = carA.shape[0]   # how many total cars in data set\n",
    "\n",
    "#labels = carA[:,5]          # v1 (average velocity)\n",
    "v2 = carA[:,6]          # v2 (average velocity)\n",
    "#labels = carA[:,7]          # v3 (average velocity)\n",
    "#labels = carA[:,8]          # std (standard deviation of velocity)\n",
    "#labels = carA[:,9]          # maxY (lowest vertical position in frame)\n",
    "sz = carA[:,10]          # pixels (size of detected motion area)\n",
    "\n",
    "ishow(mapper, v2, img_count)  # show an interactive plot of the training data\n",
    "ishow(mapper, sz, img_count)  # show an interactive plot of the training data"
   ]
  },
  {
   "cell_type": "code",
   "execution_count": null,
   "id": "a9a16437",
   "metadata": {
    "scrolled": true
   },
   "outputs": [],
   "source": [
    "orig_embedding = mapper.transform(scaled_cars_data)   # original training data in map\n",
    "fig, ax = plt.subplots(figsize=(12, 12))\n",
    "plt.rcParams['axes.facecolor'] = 'black'  # set matplotlib background color\n",
    "plt.scatter(orig_embedding[:, 0], orig_embedding[:, 1], c=carA[:,6], s=2, cmap='Spectral') # plot training data\n",
    "plt.xlim([-8, 16])\n",
    "plt.ylim([-3, 16])\n"
   ]
  },
  {
   "cell_type": "code",
   "execution_count": null,
   "id": "7a9832dc",
   "metadata": {},
   "outputs": [],
   "source": [
    "# === Now, let's get some new test data, and see how it fits into the map"
   ]
  },
  {
   "cell_type": "code",
   "execution_count": null,
   "id": "55a5efa0",
   "metadata": {},
   "outputs": [],
   "source": [
    "# %%script false --no-raise-error   # temporarily disable this cell\n",
    "\n",
    "# load in test data from a CSV file\n",
    "\n",
    "#cars2 = pd.read_csv(\"data/mailman.csv\")\n",
    "cars2 = pd.read_csv(\"data/cars-2310.csv\")\n",
    "#cars2 = pd.read_csv(\"data/cars-7390.csv\")\n",
    "\n",
    "cars2=cars2[cars2[\"std\"] < stdThresh]     # remove rows with std.dev. too high\n",
    "cars2[\"direction\"] = np.sign(cars2[\"v2\"]) # create new column: direction of motion (-1, +1)\n",
    "\n",
    "cars2_data = cars2[\n",
    "    [\n",
    "        #\"day\",\n",
    "        #\"hour\",\n",
    "        #\"minute\",\n",
    "        \"frames\",\n",
    "        \"v1\",\n",
    "        \"v2\",\n",
    "        \"v3\",\n",
    "        \"std\",\n",
    "        \"minY\",\n",
    "        \"pixels\",\n",
    "        \"direction\"\n",
    "    ]\n",
    "].values\n",
    "\n",
    "scaled_cars2_data = Fit.transform(cars2_data)  # transform test data with existing trained Fit parameters\n",
    "sc2d = scaled_cars2_data  # easier to type"
   ]
  },
  {
   "cell_type": "code",
   "execution_count": null,
   "id": "5bd68030",
   "metadata": {},
   "outputs": [],
   "source": [
    "%%script false --no-raise-error   # temporarily disable this cell\n",
    "\n",
    "# synthesize a random dataset, but with same per-column statistics as real one\n",
    "\n",
    "scaled_cars2_data = np.random.normal(0, 1.0, size=(15000, 7)) # 8 columns of normalized random data\n",
    "sc2d = scaled_cars2_data  # easier to type\n",
    "\n",
    "# create new column: direction of motion (-1, +1)\n",
    "carDir = np.sign(sc2d[:,2]).reshape((sc2d.shape[0],1))\n",
    "sc2d = np.append(sc2d,carDir,1)  # add the new column onto existing array\n"
   ]
  },
  {
   "cell_type": "code",
   "execution_count": null,
   "id": "c4c8a849",
   "metadata": {
    "scrolled": true
   },
   "outputs": [],
   "source": [
    "test_embedding = mapper.transform(scaled_cars2_data)  # test data into trained map (slow)"
   ]
  },
  {
   "cell_type": "code",
   "execution_count": null,
   "id": "daf76eff",
   "metadata": {
    "scrolled": true
   },
   "outputs": [],
   "source": [
    "# Display the new data based on the trained UMAP embedding\n",
    "\n",
    "# index: 1 2 3 4 5  6  7  8   9    10\n",
    "# value: D H M S v1 v2 v3 std minY size\n",
    "\n",
    "#car2A = cars2.to_numpy()  # convert pandas dataframe to numpy array\n",
    "plt.rcParams['axes.facecolor'] = 'black'  # set matplotlib background color\n",
    "\n",
    "fig, ax = plt.subplots(figsize=(12, 12))\n",
    "\n",
    "#plt.scatter(test_embedding[:, 0], test_embedding[:, 1], c=car2A[:,10], cmap='Spectral')\n",
    "#plt.scatter(test_embedding[:, 0], test_embedding[:, 1], c=car2A[:,9], cmap='Spectral')\n",
    "#plt.scatter(test_embedding[:, 0], test_embedding[:, 1], c=car2A[:,8], cmap='Spectral')\n",
    "plt.scatter(test_embedding[:, 0], test_embedding[:, 1], c=sc2d[:,2], s=2, cmap='Spectral')\n",
    "plt.xlim([-8, 16])\n",
    "plt.ylim([-3, 16])"
   ]
  },
  {
   "cell_type": "code",
   "execution_count": null,
   "id": "e9601f3b",
   "metadata": {},
   "outputs": [],
   "source": [
    "# Find the closest example to a specific point in data mapping\n",
    "from scipy import spatial\n",
    "\n",
    "def showNearest(A,pt):\n",
    "    dist,index = spatial.KDTree(A).query(pt)  # get distance and index of nearest point\n",
    "    print(\"Map coords: \", A[index],end=\"\")  # find (x,y) of nearest point\n",
    "    print(\" Dist: %5.3f  Index %d\" % (dist, index)) # corresponding line # in CSV file\n",
    "\n",
    "# pt = [4.94, 0.724]  # choose a point in the output space\n",
    "indexIn = np.arange(np.size(sc2d[:,0]))\n",
    "pt = test_embedding[indexIn,:]\n",
    "dist,indexOut = spatial.KDTree(orig_embedding).query(pt)  # distance & index of nearest point\n",
    "\n",
    "float_formatter = \"{:+0.3f}\".format\n",
    "np.set_printoptions(formatter={'float_kind':float_formatter})\n",
    "\n",
    "print(\" frames,   v1,    v2,    v3,  stdev,  minY,    sz,   dir\")\n",
    "\n",
    "diff = sc2d[indexIn,:] - scaled_cars_data[indexOut]\n",
    "d2 = diff ** 2\n",
    "d2s = np.sum(d2,axis=1)\n",
    "\n",
    "print( (np.average(d2,axis=0)) ) # mean difference"
   ]
  },
  {
   "cell_type": "code",
   "execution_count": null,
   "id": "647bc108",
   "metadata": {},
   "outputs": [],
   "source": [
    "%%script false --no-raise-error   # temporarily disable this cell\n",
    "\n",
    " frames,   v1,    v2,    v3,  stdev,  minY, size,   dir    (mean differences)\n",
    "[+0.134 +0.074 +0.048 +0.067 +0.111 +0.212 +0.140 +0.003]  real data pair #1\n",
    "[+0.109 +0.065 +0.044 +0.069 +0.082 +0.198 +0.159 +0.002]  real data pair #2\n",
    "[+0.153 +0.071 +0.046 +0.066 +0.112 +0.236 +0.144 +0.001]  real data pair #3\n",
    "[+0.131 +0.072 +0.044 +0.067 +0.102 +0.227 +0.144 +0.000]  real data pair #4\n",
    "[+0.147 +0.071 +0.045 +0.067 +0.095 +0.205 +0.134 +0.001]  real data pair #5\n",
    "[+0.120 +0.066 +0.041 +0.061 +0.088 +0.180 +0.117 +0.001]  nn=20\n",
    "[+0.103 +0.067 +0.038 +0.055 +0.083 +0.157 +0.106 +0.005]  nn=10\n",
    "[+0.096 +0.059 +0.034 +0.050 +0.076 +0.152 +0.118 +0.005]  nn=10, md=0.01\n",
    "[+0.104 +0.056 +0.032 +0.050 +0.089 +0.166 +0.110 +0.005]  nn=10, md=0.01 (grp4)\n",
    "[+0.107 +0.060 +0.035 +0.054 +0.099 +0.185 +0.130 +0.005]  nn=10, md=0.01, mink.\n",
    "[+0.134 +0.070 +0.043 +0.064 +0.096 +0.201 +0.133 +0.001]  nn=45, md=0.01\n",
    "[+0.151 +0.071 +0.047 +0.066 +0.126 +0.230 +0.154 +0.001]  nn=45, md=0.01 (grp4)\n",
    "[+0.156 +0.073 +0.047 +0.066 +0.111 +0.227 +0.145 +0.001]  nn=45, md=0.01 (grp4) mink\n",
    "[+0.101 +0.063 +0.040 +0.060 +0.089 +0.204 +0.174 +0.001]  nn=45, md=0.01  mink\n",
    "[+0.182 +0.067 +0.044 +0.064 +0.147 +0.187 +0.147 +0.002]  nn=45, md=0.01, mink, smaller\n",
    "\n",
    "[+0.650 +1.004 +0.948 +0.963 +0.519 +0.708 +0.489 +1.381]  real paired with random\n",
    "[+0.707 +1.040 +0.997 +0.952 +0.546 +0.796 +0.633 +1.387]  random try #2\n",
    "[+0.591 +0.988 +0.972 +0.946 +0.530 +0.727 +0.568 +1.399]  random try #3\n",
    "[+0.516 +0.915 +0.886 +0.864 +0.447 +0.577 +0.341 +1.317]  random, nn=10\n",
    "[+0.541 +0.956 +0.974 +0.977 +0.608 +0.695 +0.511 +1.400]  random, nn=45\n",
    "[+0.632 +1.000 +0.929 +0.961 +0.542 +0.677 +0.454 +1.361]  random, nn=45, md=0.01\n",
    "[+0.468 +0.968 +0.986 +0.940 +0.617 +0.698 +0.484 +1.437]  random, nn=45, md=0.01 (grp4)\n",
    "[+0.491 +0.852 +0.863 +0.824 +0.431 +0.639 +0.439 +1.309]  random, nn=10, md=0.01 (grp4)\n",
    "[+0.493 +0.874 +0.862 +0.845 +0.515 +0.630 +0.496 +1.335]  same, but minkowski metric"
   ]
  },
  {
   "cell_type": "code",
   "execution_count": null,
   "id": "17c45fac",
   "metadata": {},
   "outputs": [],
   "source": []
  }
 ],
 "metadata": {
  "kernelspec": {
   "display_name": "Python 3 (ipykernel)",
   "language": "python",
   "name": "python3"
  },
  "language_info": {
   "codemirror_mode": {
    "name": "ipython",
    "version": 3
   },
   "file_extension": ".py",
   "mimetype": "text/x-python",
   "name": "python",
   "nbconvert_exporter": "python",
   "pygments_lexer": "ipython3",
   "version": "3.8.13"
  }
 },
 "nbformat": 4,
 "nbformat_minor": 5
}
