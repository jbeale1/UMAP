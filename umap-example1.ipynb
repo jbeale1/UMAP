{
 "cells": [
  {
   "cell_type": "code",
   "execution_count": null,
   "id": "866cca40",
   "metadata": {},
   "outputs": [],
   "source": [
    "# Experiments with UMAP  18-Oct-2022 J.Beale\n",
    "# based on https://umap-learn.readthedocs.io/en/latest/basic_usage.html\n",
    "\n",
    "import numpy as np\n",
    "from sklearn.datasets import load_digits\n",
    "from sklearn.model_selection import train_test_split\n",
    "from sklearn.preprocessing import StandardScaler\n",
    "import matplotlib.pyplot as plt\n",
    "import seaborn as sns\n",
    "import pandas as pd\n",
    "%matplotlib inline\n"
   ]
  },
  {
   "cell_type": "code",
   "execution_count": null,
   "id": "42919f77",
   "metadata": {},
   "outputs": [],
   "source": [
    "sns.set(style='white', context='notebook', rc={'figure.figsize':(14,10)})"
   ]
  },
  {
   "cell_type": "code",
   "execution_count": null,
   "id": "0f271445",
   "metadata": {},
   "outputs": [],
   "source": [
    "cars = pd.read_csv(\"/home/john/UMAP/cars-7390.csv\")  # read in CSV data\n",
    "cars.head()"
   ]
  },
  {
   "cell_type": "code",
   "execution_count": null,
   "id": "9006a6b3",
   "metadata": {},
   "outputs": [],
   "source": [
    "cars = cars.dropna()      # get rid of any N/A values\n",
    "cars.hour.value_counts()  # display how many events at each hour of day"
   ]
  },
  {
   "cell_type": "code",
   "execution_count": null,
   "id": "e7898e55",
   "metadata": {},
   "outputs": [],
   "source": [
    "sns.pairplot(cars.drop(\"second\", axis=1), hue='hour');"
   ]
  },
  {
   "cell_type": "code",
   "execution_count": null,
   "id": "166528f6",
   "metadata": {},
   "outputs": [],
   "source": [
    "import umap\n",
    "import umap.plot"
   ]
  },
  {
   "cell_type": "code",
   "execution_count": null,
   "id": "577ab7ea",
   "metadata": {},
   "outputs": [],
   "source": [
    "cars_data = cars[\n",
    "    [\n",
    "        #\"day\",\n",
    "        #\"hour\",\n",
    "        #\"minute\",\n",
    "        \"frames\",\n",
    "        \"v1\",\n",
    "        \"v2\",\n",
    "        \"v3\",\n",
    "        \"std\",\n",
    "        \"minY\",\n",
    "        \"pixels\",\n",
    "    ]\n",
    "].values\n",
    "scaled_cars_data = StandardScaler().fit_transform(cars_data)"
   ]
  },
  {
   "cell_type": "code",
   "execution_count": null,
   "id": "61b5e0ab",
   "metadata": {},
   "outputs": [],
   "source": [
    "embedding = reducer.fit_transform(scaled_cars_data) # this is a little slow\n",
    "embedding.shape"
   ]
  },
  {
   "cell_type": "code",
   "execution_count": null,
   "id": "c2c451b4",
   "metadata": {},
   "outputs": [],
   "source": [
    "plt.scatter(\n",
    "    embedding[:, 0],\n",
    "    embedding[:, 1]\n",
    "    )\n",
    "plt.gca().set_aspect('equal', 'datalim')\n",
    "plt.title('UMAP projection of Oct.9-17 2022 Car Speed (v1-3)', fontsize=24);"
   ]
  },
  {
   "cell_type": "code",
   "execution_count": null,
   "id": "102186bd",
   "metadata": {},
   "outputs": [],
   "source": [
    "mapper = umap.UMAP(n_neighbors=15,\n",
    "                   min_dist=0.01,\n",
    "                   init='spectral',\n",
    "                   random_state=40).fit(scaled_cars_data) # this is a little slow"
   ]
  },
  {
   "cell_type": "code",
   "execution_count": null,
   "id": "d3a787d3",
   "metadata": {
    "scrolled": false
   },
   "outputs": [],
   "source": [
    "# this cell is a little slow\n",
    "\n",
    "#umap.plot.diagnostic(mapper, diagnostic_type='vq')\n",
    "#umap.plot.diagnostic(mapper, diagnostic_type='pca')\n",
    "umap.plot.diagnostic(mapper, diagnostic_type='local_dim')\n",
    "#umap.plot.diagnostic(mapper, diagnostic_type='neighborhood')"
   ]
  },
  {
   "cell_type": "code",
   "execution_count": 105,
   "id": "d39f0af0",
   "metadata": {},
   "outputs": [],
   "source": [
    "def ishow(dmap, labels, n):\n",
    "    hover_data = pd.DataFrame({'index': np.arange(n)+2,\n",
    "                               'label': labels\n",
    "                               #'x': dmap.embedding_[:n, 0],\n",
    "                               #'y': dmap.embedding_[:n, 1]\n",
    "                               })\n",
    "    p = umap.plot.interactive(dmap, labels=labels,\n",
    "                              hover_data=hover_data, point_size=3, theme = 'fire')\n",
    "    umap.plot.show(p)\n",
    "    \n",
    "carA = cars.to_numpy()  # convert pandas dataframe to numpy array\n",
    "img_count = carA.shape[0]   # how many total cars in data set\n",
    "# labels = carA[:,6]          # v2 (average velocity)\n",
    "#labels = carA[:,8]          # std (standard deviation of velocity)\n",
    "#labels = carA[:,1]          # hour (hour of day, 24 hour clock)\n",
    "#labels = carA[:,9]          # maxY (lowest vertical position in frame)\n",
    "labels = carA[:,10]          # pixels (size of detected motion area)\n",
    "ishow(mapper, labels, img_count)"
   ]
  },
  {
   "cell_type": "code",
   "execution_count": null,
   "id": "f9339be9",
   "metadata": {},
   "outputs": [],
   "source": [
    "print(carA.shape[0])\n",
    "print(carA[0,5], carA[0,6], carA[0,7])"
   ]
  }
 ],
 "metadata": {
  "kernelspec": {
   "display_name": "Python 3 (ipykernel)",
   "language": "python",
   "name": "python3"
  },
  "language_info": {
   "codemirror_mode": {
    "name": "ipython",
    "version": 3
   },
   "file_extension": ".py",
   "mimetype": "text/x-python",
   "name": "python",
   "nbconvert_exporter": "python",
   "pygments_lexer": "ipython3",
   "version": "3.8.13"
  }
 },
 "nbformat": 4,
 "nbformat_minor": 5
}
